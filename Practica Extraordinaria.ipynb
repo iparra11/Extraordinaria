{
 "cells": [
  {
   "cell_type": "code",
   "execution_count": 8,
   "id": "a1f4d143",
   "metadata": {},
   "outputs": [],
   "source": [
    "import numpy as np"
   ]
  },
  {
   "cell_type": "code",
   "execution_count": 86,
   "id": "5d4d1065",
   "metadata": {},
   "outputs": [
    {
     "name": "stdout",
     "output_type": "stream",
     "text": [
      "La SCL es ¨ MJAU ¨, de tamajo 4\n"
     ]
    }
   ],
   "source": [
    "###  m=2  ###\n",
    "\n",
    "X = 'XMJYAUZ'\n",
    "Y = 'MZJAWXU'\n",
    "# Funcion para encontrar el tamaño de la subsecuencia mas larga de X[0…m-1], Y[0…n-1]\n",
    "def SCL2(X, Y):\n",
    " \n",
    "    m = len(X)\n",
    "    n = len(Y)\n",
    " \n",
    "    # Rellenamos la matriz T con 0s\n",
    "    T = [[0 for x in range(n + 1)] for y in range(m + 1)]\n",
    " \n",
    "    # Rellenamos la matriz T con las coincidencias\n",
    "    for i in range(1, m + 1):\n",
    "        for j in range(1, n + 1):\n",
    "            # Si coincide el caracter\n",
    "            if X[i - 1] == Y[j - 1]:\n",
    "                T[i][j] = T[i - 1][j - 1] + 1\n",
    "\n",
    "            # Si no\n",
    "            else:\n",
    "                T[i][j] = max(T[i - 1][j], T[i][j - 1])\n",
    " \n",
    "    # Secuencia\n",
    "    Seq = ''\n",
    "    i = m\n",
    "    j = n\n",
    "    while i>0 and j>0:\n",
    "        \n",
    "        #Sumamos coincidencias\n",
    "        if X[i-1] == Y[j-1]:\n",
    "            Seq += X[i-1]\n",
    "            i -= 1\n",
    "            j -= 1 \n",
    "            \n",
    "        #Avanzamos hasta la siguiente coincidencia\n",
    "        elif T[i-1][j] > T[i][j-1]:\n",
    "            i -= 1\n",
    "             \n",
    "        else:\n",
    "            j -= 1\n",
    "            \n",
    "    #Le damos la vuelta a Seq\n",
    "    Seq = Seq[::-1]\n",
    "            \n",
    "    return (T[m][n],Seq)\n",
    "print('La SCL es ¨', SCL2(X, Y)[1],'¨, de tamajo',SCL2(X, Y)[0])"
   ]
  },
  {
   "cell_type": "code",
   "execution_count": 6,
   "id": "62d132e1",
   "metadata": {},
   "outputs": [
    {
     "ename": "NameError",
     "evalue": "name 'np' is not defined",
     "output_type": "error",
     "traceback": [
      "\u001b[1;31m---------------------------------------------------------------------------\u001b[0m",
      "\u001b[1;31mNameError\u001b[0m                                 Traceback (most recent call last)",
      "\u001b[1;32mC:\\Users\\IAKI~1\\AppData\\Local\\Temp/ipykernel_10812/2542089312.py\u001b[0m in \u001b[0;36m<module>\u001b[1;34m\u001b[0m\n\u001b[0;32m     54\u001b[0m \u001b[1;33m\u001b[0m\u001b[0m\n\u001b[0;32m     55\u001b[0m     \u001b[1;32mreturn\u001b[0m \u001b[1;33m(\u001b[0m\u001b[0mT\u001b[0m\u001b[1;33m[\u001b[0m\u001b[0mm\u001b[0m\u001b[1;33m]\u001b[0m\u001b[1;33m[\u001b[0m\u001b[0mn\u001b[0m\u001b[1;33m]\u001b[0m\u001b[1;33m[\u001b[0m\u001b[0mp\u001b[0m\u001b[1;33m]\u001b[0m\u001b[1;33m,\u001b[0m\u001b[0mSeq\u001b[0m\u001b[1;33m)\u001b[0m\u001b[1;33m\u001b[0m\u001b[1;33m\u001b[0m\u001b[0m\n\u001b[1;32m---> 56\u001b[1;33m \u001b[0mprint\u001b[0m\u001b[1;33m(\u001b[0m\u001b[1;34m'La SCL es ¨'\u001b[0m\u001b[1;33m,\u001b[0m \u001b[0mSCL3\u001b[0m\u001b[1;33m(\u001b[0m\u001b[0mX\u001b[0m\u001b[1;33m,\u001b[0m \u001b[0mY\u001b[0m\u001b[1;33m,\u001b[0m \u001b[0mZ\u001b[0m\u001b[1;33m)\u001b[0m\u001b[1;33m[\u001b[0m\u001b[1;36m1\u001b[0m\u001b[1;33m]\u001b[0m\u001b[1;33m,\u001b[0m\u001b[1;34m'¨, de tamajo'\u001b[0m\u001b[1;33m,\u001b[0m\u001b[0mSCL3\u001b[0m\u001b[1;33m(\u001b[0m\u001b[0mX\u001b[0m\u001b[1;33m,\u001b[0m \u001b[0mY\u001b[0m\u001b[1;33m,\u001b[0m \u001b[0mZ\u001b[0m\u001b[1;33m)\u001b[0m\u001b[1;33m[\u001b[0m\u001b[1;36m0\u001b[0m\u001b[1;33m]\u001b[0m\u001b[1;33m)\u001b[0m\u001b[1;33m\u001b[0m\u001b[1;33m\u001b[0m\u001b[0m\n\u001b[0m",
      "\u001b[1;32mC:\\Users\\IAKI~1\\AppData\\Local\\Temp/ipykernel_10812/2542089312.py\u001b[0m in \u001b[0;36mSCL3\u001b[1;34m(X, Y, Z)\u001b[0m\n\u001b[0;32m     12\u001b[0m \u001b[1;33m\u001b[0m\u001b[0m\n\u001b[0;32m     13\u001b[0m     \u001b[1;31m# Rellenamos la matriz T con 0s\u001b[0m\u001b[1;33m\u001b[0m\u001b[1;33m\u001b[0m\u001b[0m\n\u001b[1;32m---> 14\u001b[1;33m     \u001b[0mT\u001b[0m \u001b[1;33m=\u001b[0m \u001b[0mnp\u001b[0m\u001b[1;33m.\u001b[0m\u001b[0mzeros\u001b[0m\u001b[1;33m(\u001b[0m\u001b[1;33m(\u001b[0m\u001b[0mn\u001b[0m \u001b[1;33m+\u001b[0m \u001b[1;36m1\u001b[0m\u001b[1;33m,\u001b[0m\u001b[0mm\u001b[0m \u001b[1;33m+\u001b[0m \u001b[1;36m1\u001b[0m\u001b[1;33m,\u001b[0m\u001b[0mp\u001b[0m \u001b[1;33m+\u001b[0m \u001b[1;36m1\u001b[0m\u001b[1;33m)\u001b[0m\u001b[1;33m)\u001b[0m\u001b[1;33m\u001b[0m\u001b[1;33m\u001b[0m\u001b[0m\n\u001b[0m\u001b[0;32m     15\u001b[0m \u001b[1;33m\u001b[0m\u001b[0m\n\u001b[0;32m     16\u001b[0m     \u001b[1;31m# Rellenamos la matriz T con las coincidencias\u001b[0m\u001b[1;33m\u001b[0m\u001b[1;33m\u001b[0m\u001b[0m\n",
      "\u001b[1;31mNameError\u001b[0m: name 'np' is not defined"
     ]
    }
   ],
   "source": [
    "###  m=3  ###\n",
    "\n",
    "X = 'XMJYAUZ'\n",
    "Y = 'MZJAWXU'\n",
    "Z = 'AMAJQU'\n",
    "# Funcion para encontrar el tamaño de la subsecuencia mas larga de X[0…m-1], Y[0…n-1]\n",
    "def SCL3(X, Y, Z):\n",
    " \n",
    "    m = len(X)\n",
    "    n = len(Y)\n",
    "    p = len(Z)\n",
    " \n",
    "    # Rellenamos la matriz T con 0s\n",
    "    T = np.zeros((n + 1,m + 1,p + 1))\n",
    " \n",
    "    # Rellenamos la matriz T con las coincidencias\n",
    "    for i in range(1, m + 1):\n",
    "        for j in range(1, n + 1):\n",
    "            for k in range(1, p + 1):\n",
    "                # Si coincide el caracter\n",
    "                if X[i - 1] == Y[j - 1]==Z[k - 1]:\n",
    "                    T[i][j][k] = T[i - 1][j - 1][k - 1] + 1\n",
    "\n",
    "                # Si no\n",
    "                else:\n",
    "                    T[i][j][k] = max(T[i - 1][j][k], T[i][j - 1][k], T[i][j][k - 1])\n",
    " \n",
    "    # Secuencia\n",
    "    Seq = ''\n",
    "    i = m\n",
    "    j = n\n",
    "    k = p\n",
    "    while i>0 and j>0 and k>0:\n",
    "        \n",
    "        #Sumamos coincidencias\n",
    "        if X[i-1] == Y[j-1] == Z[k-1]:\n",
    "            Seq += X[i-1]\n",
    "            i -= 1\n",
    "            j -= 1 \n",
    "            k -= 1                                        \n",
    "            \n",
    "        #Avanzamos hasta la siguiente coincidencia\n",
    "        elif T[i-1][j][k] == max(T[i-1][j][k],T[i][j-1][k],T[i][j][k-1]):\n",
    "            i -= 1\n",
    "            \n",
    "        elif T[i][j-1][k] == max(T[i-1][j][k],T[i][j-1][k],T[i][j][k-1]):\n",
    "            j -= 1\n",
    "             \n",
    "        else:\n",
    "            k -= 1\n",
    "   \n",
    "    #Le damos la vuelta a Seq\n",
    "    Seq = Seq[::-1]\n",
    "            \n",
    "    return (T[m][n][p],Seq)\n",
    "print('La SCL es ¨', SCL3(X, Y, Z)[1],'¨, de tamajo',SCL3(X, Y, Z)[0])"
   ]
  },
  {
   "cell_type": "code",
   "execution_count": 12,
   "id": "e4b9b4ba",
   "metadata": {},
   "outputs": [
    {
     "name": "stdout",
     "output_type": "stream",
     "text": [
      "La SCL es ¨ MJU ¨, de tamajo 3.0\n"
     ]
    }
   ],
   "source": [
    "###  m=4  ###\n",
    "\n",
    "X = 'XMJYAUZ'\n",
    "Y = 'MZJAWXU'\n",
    "Z = 'AMAJQU'\n",
    "Q = 'MUJPRUS'\n",
    "# Funcion para encontrar el tamaño de la subsecuencia mas larga de X[0…m-1], Y[0…n-1]\n",
    "def SCL4(X, Y, Z, Q):\n",
    " \n",
    "    m = len(X)\n",
    "    n = len(Y)\n",
    "    p = len(Z)\n",
    "    q = len(Q)\n",
    " \n",
    "    # Rellenamos la matriz T con 0s\n",
    "    T = np.zeros((n + 1,m + 1,p + 1,q + 1))\n",
    " \n",
    "    # Rellenamos la matriz T con las coincidencias\n",
    "    for i in range(1, m + 1):\n",
    "        for j in range(1, n + 1):\n",
    "            for k in range(1, p + 1):\n",
    "                for l in range(1, q + 1):\n",
    "                    # Si coincide el caracter\n",
    "                    if X[i - 1] == Y[j - 1]==Z[k - 1]==Q[l - 1]:\n",
    "                        T[i][j][k][l] = T[i - 1][j - 1][k - 1][l - 1] + 1\n",
    "\n",
    "                    # Si no\n",
    "                    else:\n",
    "                        T[i][j][k][l] = max(T[i - 1][j][k][l], T[i][j - 1][k][l], T[i][j][k - 1][l], T[i][j][k][l - 1])\n",
    " \n",
    "    # Secuencia\n",
    "    Seq = ''\n",
    "    i = m\n",
    "    j = n\n",
    "    k = p\n",
    "    l = q\n",
    "    while i>0 and j>0 and k>0 and q>0:\n",
    "        \n",
    "        #Sumamos coincidencias\n",
    "        if X[i-1] == Y[j-1] == Z[k-1] == Q[l-1]:\n",
    "            Seq += X[i-1]\n",
    "            i -= 1\n",
    "            j -= 1 \n",
    "            k -= 1 \n",
    "            l -= 1\n",
    "            \n",
    "        #Avanzamos hasta la siguiente coincidencia\n",
    "        elif T[i-1][j][k][l] == max(T[i-1][j][k][l], T[i][j-1][k][l], T[i][j][k-1][l], T[i][j][k][l-1]):\n",
    "            i -= 1\n",
    "            \n",
    "        elif T[i][j-1][k][l] == max(T[i-1][j][k][l], T[i][j-1][k][l], T[i][j][k-1][l], T[i][j][k][l-1]):\n",
    "            j -= 1\n",
    "             \n",
    "        elif T[i][j][k-1][l] == max(T[i-1][j][k][l], T[i][j-1][k][l], T[i][j][k-1][l], T[i][j][k][l-1]):\n",
    "            k -= 1\n",
    "            \n",
    "        else:\n",
    "            l -=1\n",
    "   \n",
    "    #Le damos la vuelta a Seq\n",
    "    Seq = Seq[::-1]\n",
    "            \n",
    "    return (T[m][n][p][q],Seq)\n",
    "print('La SCL es ¨', SCL4(X, Y, Z, Q)[1],'¨, de tamajo',SCL4(X, Y, Z, Q)[0])"
   ]
  },
  {
   "cell_type": "code",
   "execution_count": 2,
   "id": "2422c823",
   "metadata": {},
   "outputs": [
    {
     "name": "stdout",
     "output_type": "stream",
     "text": [
      "<class 'str'>\n"
     ]
    }
   ],
   "source": [
    "import string\n",
    "import random\n",
    " \n",
    "def ran(size=6, chars=string.ascii_uppercase):\n",
    "    return ''.join(random.choice(chars) for _ in range(size))\n",
    "\n",
    "print(type(ran(30)))"
   ]
  },
  {
   "cell_type": "code",
   "execution_count": 4,
   "id": "1762e85b",
   "metadata": {},
   "outputs": [],
   "source": [
    "import time"
   ]
  },
  {
   "cell_type": "code",
   "execution_count": 82,
   "id": "e14855ec",
   "metadata": {},
   "outputs": [
    {
     "name": "stdout",
     "output_type": "stream",
     "text": [
      "[[50, 0.001120762825012207], [100, 0.004059224128723144], [150, 0.008779959678649902], [200, 0.015519914627075195], [250, 0.02471993923187256], [300, 0.03563957214355469], [350, 0.05143920421600342], [400, 0.06634069919586182], [450, 0.08856082439422608], [500, 0.10345782279968262]]\n"
     ]
    }
   ],
   "source": [
    "### m=2 ###\n",
    "\n",
    "t = []\n",
    "for i in range(10):\n",
    "    t0 = 0\n",
    "    for j in range(50):\n",
    "        A = ran((i+1)*50)\n",
    "        B = ran((i+1)*50)\n",
    "        t1=time.time()\n",
    "        SCL2(A,B)\n",
    "        t2=time.time()\n",
    "        tf = t2 - t1\n",
    "        t0 = t0 + tf\n",
    "    tm = t0/50\n",
    "    t.append([(i+1)*50,tm])\n",
    "print(t)"
   ]
  },
  {
   "cell_type": "code",
   "execution_count": 92,
   "id": "4e6a7a4a",
   "metadata": {},
   "outputs": [
    {
     "data": {
      "text/plain": [
       "<function matplotlib.pyplot.show(close=None, block=None)>"
      ]
     },
     "execution_count": 92,
     "metadata": {},
     "output_type": "execute_result"
    },
    {
     "data": {
      "image/png": "[encoded data removed]",
      "text/plain": [
       "<Figure size 432x288 with 1 Axes>"
      ]
     },
     "metadata": {
      "needs_background": "light"
     },
     "output_type": "display_data"
    }
   ],
   "source": [
    "### m=2 ###\n",
    "\n",
    "import matplotlib.pyplot as plt\n",
    "\n",
    "ty = []\n",
    "tx = []\n",
    "t = []\n",
    "\n",
    "for i in range(10):\n",
    "    t0 = 0\n",
    "    for j in range(50):\n",
    "        A = ran((i+1)*50)\n",
    "        B = ran((i+1)*50)\n",
    "        t1=time.time()\n",
    "        SCL2(A,B)\n",
    "        t2=time.time()\n",
    "        tf = t2 - t1\n",
    "        t0 = t0 + tf\n",
    "    tm = t0/50\n",
    "    t.append([(i+1)*50,tm])\n",
    "\n",
    "for i in range(10):\n",
    "    ty.append(t[i][1])\n",
    "    tx.append(t[i][0])\n",
    "    \n",
    "plt.plot(tx,ty, 'ro')\n",
    "plt.xlabel('n')\n",
    "plt.ylabel('t')\n",
    "plt.show"
   ]
  },
  {
   "cell_type": "code",
   "execution_count": 9,
   "id": "5ea9c990",
   "metadata": {},
   "outputs": [
    {
     "data": {
      "text/plain": [
       "<function matplotlib.pyplot.show(close=None, block=None)>"
      ]
     },
     "execution_count": 9,
     "metadata": {},
     "output_type": "execute_result"
    },
    {
     "data": {
      "image/png": "[encoded data removed]",
      "text/plain": [
       "<Figure size 432x288 with 1 Axes>"
      ]
     },
     "metadata": {
      "needs_background": "light"
     },
     "output_type": "display_data"
    }
   ],
   "source": [
    "### m=3 ###\n",
    "\n",
    "import matplotlib.pyplot as plt\n",
    "ty = []\n",
    "tx = []\n",
    "\n",
    "t = []\n",
    "for i in range(10):\n",
    "    t0 = 0\n",
    "    for j in range(20):\n",
    "        A = ran((i+1)*20)\n",
    "        B = ran((i+1)*20)\n",
    "        C = ran((i+1)*20)\n",
    "        t1=time.time()\n",
    "        SCL3(A,B,C)\n",
    "        t2=time.time()\n",
    "        tf = t2 - t1\n",
    "        t0 = t0 + tf\n",
    "    tm = t0/20\n",
    "    t.append([(i+1)*20,tm])\n",
    "\n",
    "for i in range(10):\n",
    "    ty.append(t[i][1])\n",
    "    tx.append(t[i][0])\n",
    "    \n",
    "plt.plot(tx,ty, 'ro')\n",
    "plt.xlabel('n')\n",
    "plt.ylabel('t')\n",
    "plt.show"
   ]
  },
  {
   "cell_type": "code",
   "execution_count": 10,
   "id": "2e1cbcce",
   "metadata": {},
   "outputs": [
    {
     "name": "stdout",
     "output_type": "stream",
     "text": [
      "[[20, 0.013698434829711914], [40, 0.10785862207412719], [60, 0.3529003024101257], [80, 0.8279828429222107], [100, 1.6225610852241517], [120, 2.8317030668258667], [140, 4.440606260299683], [160, 6.57677903175354], [180, 9.352297985553742], [200, 13.157914566993714]]\n"
     ]
    }
   ],
   "source": [
    "print(t)"
   ]
  },
  {
   "cell_type": "code",
   "execution_count": 15,
   "id": "f0247494",
   "metadata": {},
   "outputs": [
    {
     "data": {
      "text/plain": [
       "<function matplotlib.pyplot.show(close=None, block=None)>"
      ]
     },
     "execution_count": 15,
     "metadata": {},
     "output_type": "execute_result"
    },
    {
     "data": {
      "image/png": "[encoded data removed]",
      "text/plain": [
       "<Figure size 432x288 with 1 Axes>"
      ]
     },
     "metadata": {
      "needs_background": "light"
     },
     "output_type": "display_data"
    }
   ],
   "source": [
    "### m=4 ###\n",
    "\n",
    "import matplotlib.pyplot as plt\n",
    "ty = []\n",
    "tx = []\n",
    "t = []\n",
    "\n",
    "for i in range(10):\n",
    "    t0 = 0\n",
    "    for j in range(5):\n",
    "        A = ran((i+1)*5)\n",
    "        B = ran((i+1)*5)\n",
    "        C = ran((i+1)*5)\n",
    "        D = ran((i+1)*5)\n",
    "        t1=time.time()\n",
    "        SCL4(A,B,C,D)\n",
    "        t2=time.time()\n",
    "        tf = t2 - t1\n",
    "        t0 = t0 + tf\n",
    "    tm = t0/5\n",
    "    t.append([(i+1)*5,tm])\n",
    "\n",
    "for i in range(10):\n",
    "    ty.append(t[i][1])\n",
    "    tx.append(t[i][0])\n",
    "    \n",
    "plt.plot(tx,ty, 'ro')\n",
    "plt.xlabel('n')\n",
    "plt.ylabel('t')\n",
    "plt.show"
   ]
  },
  {
   "cell_type": "code",
   "execution_count": 16,
   "id": "22db6669",
   "metadata": {},
   "outputs": [
    {
     "name": "stdout",
     "output_type": "stream",
     "text": [
      "[[5, 0.0019943714141845703], [10, 0.026608085632324217], [15, 0.12679872512817383], [20, 0.4082178115844727], [25, 0.9812415599822998], [30, 2.029789352416992], [35, 3.7311920166015624], [40, 6.5014420509338375], [45, 10.487698602676392], [50, 16.091166162490843]]\n"
     ]
    }
   ],
   "source": [
    "print(t)"
   ]
  },
  {
   "cell_type": "code",
   "execution_count": null,
   "id": "53947c97",
   "metadata": {},
   "outputs": [],
   "source": []
  }
 ],
 "metadata": {
  "kernelspec": {
   "display_name": "Python 3 (ipykernel)",
   "language": "python",
   "name": "python3"
  },
  "language_info": {
   "codemirror_mode": {
    "name": "ipython",
    "version": 3
   },
   "file_extension": ".py",
   "mimetype": "text/x-python",
   "name": "python",
   "nbconvert_exporter": "python",
   "pygments_lexer": "ipython3",
   "version": "3.9.7"
  }
 },
 "nbformat": 4,
 "nbformat_minor": 5
}
